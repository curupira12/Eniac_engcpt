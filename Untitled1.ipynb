{
  "nbformat": 4,
  "nbformat_minor": 0,
  "metadata": {
    "colab": {
      "provenance": [],
      "authorship_tag": "ABX9TyOHHe4nKP++TxYZc0Kpe95P",
      "include_colab_link": true
    },
    "kernelspec": {
      "name": "python3",
      "display_name": "Python 3"
    },
    "language_info": {
      "name": "python"
    }
  },
  "cells": [
    {
      "cell_type": "markdown",
      "metadata": {
        "id": "view-in-github",
        "colab_type": "text"
      },
      "source": [
        "<a href=\"https://colab.research.google.com/github/curupira12/Eniac_engcpt/blob/main/Untitled1.ipynb\" target=\"_parent\"><img src=\"https://colab.research.google.com/assets/colab-badge.svg\" alt=\"Open In Colab\"/></a>"
      ]
    },
    {
      "cell_type": "code",
      "execution_count": 8,
      "metadata": {
        "colab": {
          "base_uri": "https://localhost:8080/"
        },
        "id": "hkAcBCCVy_y-",
        "outputId": "a4abd00d-58dd-4e99-a918-9c746049ae4e"
      },
      "outputs": [
        {
          "output_type": "stream",
          "name": "stdout",
          "text": [
            "Olá Mundo\n"
          ]
        }
      ],
      "source": [
        "print(\"Olá Mundo\")"
      ]
    },
    {
      "cell_type": "code",
      "source": [
        "idade = 17\n",
        "if idade >= 18:\n",
        "    print(\"Maior de idade\")\n",
        "else:\n",
        "    print(\"Menor de idade\")\n",
        "print(\"fim\")"
      ],
      "metadata": {
        "colab": {
          "base_uri": "https://localhost:8080/"
        },
        "id": "4apMmWxX1HJf",
        "outputId": "85002574-7d29-4723-e4a5-061bfc1c3752"
      },
      "execution_count": 13,
      "outputs": [
        {
          "output_type": "stream",
          "name": "stdout",
          "text": [
            "Menor de idade\n",
            "fim\n"
          ]
        }
      ]
    },
    {
      "cell_type": "code",
      "source": [
        "idade = 19\n",
        "if idade < 12:\n",
        "    print(\"Criança\")\n",
        "elif idade < 18:\n",
        "    print(\"Adolecente\")\n",
        "elif idade < 60:\n",
        "    print(\"Adulto\")\n",
        "else:\n",
        "    print(\"Velho\")\n",
        "print(\"fim\")"
      ],
      "metadata": {
        "colab": {
          "base_uri": "https://localhost:8080/"
        },
        "id": "piAgEsAg3JJ2",
        "outputId": "bf912b99-ac8c-4936-b2d7-95033a843612"
      },
      "execution_count": 18,
      "outputs": [
        {
          "output_type": "stream",
          "name": "stdout",
          "text": [
            "Adulto\n",
            "fim\n"
          ]
        }
      ]
    },
    {
      "cell_type": "code",
      "source": [
        "# x > 3 ? \"verdadeiro\" : \"falso\"\n",
        "x = 5\n",
        "resultado = \"verdadeiro\" if x > 3 else \"falso\"\n",
        "print(resultado)\n"
      ],
      "metadata": {
        "colab": {
          "base_uri": "https://localhost:8080/"
        },
        "id": "_1QtcSqu4hvr",
        "outputId": "97aaf70e-e75c-423d-8faa-04c7f2e413ad"
      },
      "execution_count": 22,
      "outputs": [
        {
          "output_type": "stream",
          "name": "stdout",
          "text": [
            "verdadeiro\n"
          ]
        }
      ]
    },
    {
      "cell_type": "code",
      "source": [
        "# while\n",
        "numero = 1\n",
        "while numero <= 5:\n",
        "    print(numero)\n",
        "    numero += 1\n",
        "print(\"fim\")"
      ],
      "metadata": {
        "colab": {
          "base_uri": "https://localhost:8080/"
        },
        "id": "MpmxOdYU6JSQ",
        "outputId": "53c85f90-31ea-4bfe-e2ba-249e524cec68"
      },
      "execution_count": 23,
      "outputs": [
        {
          "output_type": "stream",
          "name": "stdout",
          "text": [
            "1\n",
            "2\n",
            "3\n",
            "4\n",
            "5\n",
            "fim\n"
          ]
        }
      ]
    },
    {
      "cell_type": "code",
      "source": [
        "# Programa: Nota para o professor Allan\n",
        "# Autor: Davi\n",
        "# Data: 27/08/2025\n",
        "\n",
        "professor = \"Allan\"\n",
        "\n",
        "print(\"===== Avaliação do Professor =====\")\n",
        "nota = float(input(f\"Digite a nota para o professor {professor} (0 a 10): \"))\n",
        "\n",
        "if nota == 10:\n",
        "    print(f\"O professor {professor} é top demais! Nota máxima: {nota} 🎉\")\n",
        "elif nota >= 7:\n",
        "    print(f\"O professor {professor} está aprovado com nota {nota} 😎\")\n",
        "elif nota >= 5:\n",
        "    print(f\"O professor {professor} está na média com nota {nota} 🙂\")\n",
        "else:\n",
        "    print(f\"O professor {professor} precisa melhorar... Nota {nota} 😬\")\n"
      ],
      "metadata": {
        "colab": {
          "base_uri": "https://localhost:8080/"
        },
        "id": "lRvvC1nS7I-E",
        "outputId": "aa3fe022-c7ac-42c6-ea3b-ffed30ddd2eb"
      },
      "execution_count": 24,
      "outputs": [
        {
          "output_type": "stream",
          "name": "stdout",
          "text": [
            "===== Avaliação do Professor =====\n",
            "Digite a nota para o professor Allan (0 a 10): 10\n",
            "O professor Allan é top demais! Nota máxima: 10.0 🎉\n"
          ]
        }
      ]
    },
    {
      "cell_type": "markdown",
      "source": [
        "Tarefa apartir daqui\n"
      ],
      "metadata": {
        "id": "I9PqcWmx8kPp"
      }
    },
    {
      "cell_type": "code",
      "source": [
        "# tarefa 1\n",
        "n1 = float(input(\"Digite o primeiro número: \"))\n",
        "n2 = float(input(\"Digite o segundo número: \"))\n",
        "\n",
        "print(\"O maior número é:\", max(n1, n2))\n"
      ],
      "metadata": {
        "colab": {
          "base_uri": "https://localhost:8080/"
        },
        "id": "dv3jmE3h8pD2",
        "outputId": "94f8ef99-693e-46d6-f839-2520bdbfda82"
      },
      "execution_count": 25,
      "outputs": [
        {
          "output_type": "stream",
          "name": "stdout",
          "text": [
            "Digite o primeiro número: 3\n",
            "Digite o segundo número: 4\n",
            "O maior número é: 4.0\n"
          ]
        }
      ]
    },
    {
      "cell_type": "code",
      "source": [
        "# tarefa 2\n",
        "valor = float(input(\"Digite um valor: \"))\n",
        "\n",
        "if valor > 0:\n",
        "    print(\"O valor é positivo\")\n",
        "elif valor < 0:\n",
        "    print(\"O valor é negativo\")\n",
        "else:\n",
        "    print(\"O valor é zero\")\n"
      ],
      "metadata": {
        "colab": {
          "base_uri": "https://localhost:8080/"
        },
        "id": "THtxYdss8x7s",
        "outputId": "7cde8afb-0bc8-40f0-ebcd-afd20e61eabb"
      },
      "execution_count": 26,
      "outputs": [
        {
          "output_type": "stream",
          "name": "stdout",
          "text": [
            "Digite um valor: 8\n",
            "O valor é positivo\n"
          ]
        }
      ]
    },
    {
      "cell_type": "code",
      "source": [
        "# tarefa 3\n",
        "letra = input(\"Digite F para Feminino ou M para Masculino: \").upper()\n",
        "\n",
        "if letra == \"F\":\n",
        "    print(\"F - Feminino\")\n",
        "elif letra == \"M\":\n",
        "    print(\"M - Masculino\")\n",
        "else:\n",
        "    print(\"Sexo Inválido\")\n"
      ],
      "metadata": {
        "colab": {
          "base_uri": "https://localhost:8080/"
        },
        "id": "IrefS08287Nh",
        "outputId": "a31297c7-8f84-4c07-b314-8f66d09715cb"
      },
      "execution_count": 28,
      "outputs": [
        {
          "output_type": "stream",
          "name": "stdout",
          "text": [
            "Digite F para Feminino ou M para Masculino: m\n",
            "M - Masculino\n"
          ]
        }
      ]
    },
    {
      "cell_type": "code",
      "source": [
        "# tarefa 4\n",
        "while True:\n",
        "    nota = float(input(\"Digite uma nota entre 0 e 10: \"))\n",
        "    if 0 <= nota <= 10:\n",
        "        print(\"Nota válida:\", nota)\n",
        "        break\n",
        "    else:\n",
        "        print(\"Valor inválido! Digite novamente.\")\n"
      ],
      "metadata": {
        "colab": {
          "base_uri": "https://localhost:8080/"
        },
        "id": "LMqYp9v9881w",
        "outputId": "9f5af7e2-79ca-40bd-ae63-ab450f8e0f1c"
      },
      "execution_count": 29,
      "outputs": [
        {
          "output_type": "stream",
          "name": "stdout",
          "text": [
            "Digite uma nota entre 0 e 10: 9\n",
            "Nota válida: 9.0\n"
          ]
        }
      ]
    },
    {
      "cell_type": "code",
      "source": [
        "# tarefa 5\n",
        "numeros = []\n",
        "\n",
        "for i in range(5):\n",
        "    n = float(input(f\"Digite o {i+1}º número: \"))\n",
        "    numeros.append(n)\n",
        "\n",
        "print(\"O maior número é:\", max(numeros))\n",
        "8"
      ],
      "metadata": {
        "colab": {
          "base_uri": "https://localhost:8080/"
        },
        "id": "lFlyRFE99I3q",
        "outputId": "8e274868-79f9-4e04-cd49-62c3f9fe1f33"
      },
      "execution_count": 30,
      "outputs": [
        {
          "output_type": "stream",
          "name": "stdout",
          "text": [
            "Digite o 1º número: 7\n",
            "Digite o 2º número: 4\n",
            "Digite o 3º número: 3\n",
            "Digite o 4º número: 5\n",
            "Digite o 5º número: 6\n",
            "O maior número é: 7.0\n"
          ]
        }
      ]
    },
    {
      "cell_type": "code",
      "source": [
        "# tarefa 6\n",
        "n1 = int(input(\"Digite o primeiro número: \"))\n",
        "n2 = int(input(\"Digite o segundo número: \"))\n",
        "\n",
        "if n1 < n2:\n",
        "    for i in range(n1+1, n2):\n",
        "        print(i, end=\" \")\n",
        "else:\n",
        "    for i in range(n2+1, n1):\n",
        "        print(i, end=\" \")"
      ],
      "metadata": {
        "colab": {
          "base_uri": "https://localhost:8080/"
        },
        "id": "IHFDGOVY9N1E",
        "outputId": "fee25388-f3b5-4e57-bb43-8ba5a1ef662e"
      },
      "execution_count": 33,
      "outputs": [
        {
          "output_type": "stream",
          "name": "stdout",
          "text": [
            "Digite o primeiro número: 2\n",
            "Digite o segundo número: 7\n",
            "3 4 5 6 "
          ]
        }
      ]
    },
    {
      "cell_type": "code",
      "source": [
        "# tarefa 7\n",
        "salarios = [1200, 3600, 750, 4500, 12000]\n",
        "\n",
        "print(\"Maior salário:\", max(salarios))\n",
        "print(\"Menor salário:\", min(salarios))\n"
      ],
      "metadata": {
        "colab": {
          "base_uri": "https://localhost:8080/"
        },
        "id": "lowWyB-h9cUN",
        "outputId": "e9ecbad5-8773-4534-de92-a0119e4605cf"
      },
      "execution_count": 34,
      "outputs": [
        {
          "output_type": "stream",
          "name": "stdout",
          "text": [
            "Maior salário: 12000\n",
            "Menor salário: 750\n"
          ]
        }
      ]
    },
    {
      "cell_type": "code",
      "source": [
        "# tarefa 8\n",
        "valores = []\n",
        "\n",
        "qtd = int(input(\"Quantos valores deseja digitar? \"))\n",
        "\n",
        "for i in range(qtd):\n",
        "    v = float(input(f\"Digite o {i+1}º valor: \"))\n",
        "    valores.append(v)\n",
        "\n",
        "print(\"Maior valor:\", max(valores))\n",
        "print(\"Menor valor:\", min(valores))\n"
      ],
      "metadata": {
        "colab": {
          "base_uri": "https://localhost:8080/"
        },
        "id": "zJT6-8Np9gsj",
        "outputId": "a96bd307-d7ea-4590-95d3-572360b32ee9"
      },
      "execution_count": 35,
      "outputs": [
        {
          "output_type": "stream",
          "name": "stdout",
          "text": [
            "Quantos valores deseja digitar? 5\n",
            "Digite o 1º valor: 1\n",
            "Digite o 2º valor: 3\n",
            "Digite o 3º valor: 4\n",
            "Digite o 4º valor: 5\n",
            "Digite o 5º valor: 6\n",
            "Maior valor: 6.0\n",
            "Menor valor: 1.0\n"
          ]
        }
      ]
    },
    {
      "cell_type": "markdown",
      "source": [
        "Final das tarefas"
      ],
      "metadata": {
        "id": "RJcmxgTo9rqW"
      }
    }
  ]
}